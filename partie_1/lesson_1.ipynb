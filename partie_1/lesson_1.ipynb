{
 "cells": [
  {
   "cell_type": "markdown",
   "id": "e4ebad34",
   "metadata": {},
   "source": [
    "# Découvrez NumPy\n",
    "\n",
    "## Objectif\n",
    "Ce notebook a pour objectif de :\n",
    "- Manipuler notebook\n",
    "- Explorer et comprendre les données\n",
    "- Créer quelques visualisations simples\n",
    "\n",
    "---\n",
    "\n",
    "## 1. Import des bibliothèques\n",
    "Nous allons importer les librairies nécessaires pour l'analyse."
   ]
  },
  {
   "cell_type": "code",
   "execution_count": null,
   "id": "c575d9cd",
   "metadata": {},
   "outputs": [],
   "source": [
    "import numpy as np"
   ]
  },
  {
   "cell_type": "markdown",
   "id": "0337add0",
   "metadata": {},
   "source": [
    "## 2. Chargement des données\n",
    "Nous allons créer un DataFrame fictif pour l'exemple."
   ]
  },
  {
   "cell_type": "code",
   "execution_count": null,
   "id": "af4a5f95",
   "metadata": {},
   "outputs": [],
   "source": [
    "revenus = [1800, 1500, 2200, 3000, 2172]"
   ]
  },
  {
   "cell_type": "markdown",
   "id": "2fc00a9f",
   "metadata": {},
   "source": [
    "#### Convertir la liste en numpy.array"
   ]
  },
  {
   "cell_type": "code",
   "execution_count": null,
   "id": "10e6926c",
   "metadata": {},
   "outputs": [],
   "source": [
    "revenus_array = np.array(revenus)"
   ]
  },
  {
   "cell_type": "markdown",
   "id": "691e1d75",
   "metadata": {},
   "source": [
    "### Differenciez les arrays des listes classiques\n",
    "\n",
    "#### Liste classiques"
   ]
  },
  {
   "cell_type": "code",
   "execution_count": null,
   "id": "fec3afd3",
   "metadata": {},
   "outputs": [],
   "source": [
    "def moyenne(liste):\n",
    "    return sum(liste)/len(liste)\n",
    "moyenne(revenus) "
   ]
  },
  {
   "cell_type": "markdown",
   "id": "ecd91014",
   "metadata": {},
   "source": [
    "#### Array numpy"
   ]
  },
  {
   "cell_type": "code",
   "execution_count": null,
   "id": "78e6cb00",
   "metadata": {},
   "outputs": [],
   "source": [
    "np.mean(revenus_array)"
   ]
  },
  {
   "cell_type": "code",
   "execution_count": null,
   "id": "c333d463",
   "metadata": {},
   "outputs": [],
   "source": [
    "revenus_array[2]  # Acces au 3eme element de la liste classique"
   ]
  },
  {
   "cell_type": "code",
   "execution_count": null,
   "id": "b0a10467",
   "metadata": {},
   "outputs": [],
   "source": [
    "revenus_array[-1] # pour accéder au dernier élément"
   ]
  },
  {
   "cell_type": "code",
   "execution_count": 46,
   "id": "96dc93bd",
   "metadata": {},
   "outputs": [
    {
     "data": {
      "text/plain": [
       "array([2200, 2172])"
      ]
     },
     "execution_count": 46,
     "metadata": {},
     "output_type": "execute_result"
    }
   ],
   "source": [
    "revenus_array[(revenus_array > 2000) & (revenus_array < 3000)]  # Revenus supérieurs à 2000  "
   ]
  }
 ],
 "metadata": {
  "kernelspec": {
   "display_name": "datasci",
   "language": "python",
   "name": "python3"
  },
  "language_info": {
   "codemirror_mode": {
    "name": "ipython",
    "version": 3
   },
   "file_extension": ".py",
   "mimetype": "text/x-python",
   "name": "python",
   "nbconvert_exporter": "python",
   "pygments_lexer": "ipython3",
   "version": "3.11.14"
  }
 },
 "nbformat": 4,
 "nbformat_minor": 5
}
